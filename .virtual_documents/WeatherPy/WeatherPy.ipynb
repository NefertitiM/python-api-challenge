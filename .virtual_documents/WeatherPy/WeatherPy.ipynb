


# Dependencies and Setup
import matplotlib.pyplot as plt
import pandas as pd
import numpy as np
import requests
import time
from scipy.stats import linregress

# Impor the OpenWeatherMap API key
from api_keys import weather_api_key

# Import citipy to determine the cities based on latitude and longitude
from citipy import citipy





# Empty list for holding the latitude and longitude combinations
lat_lngs = []

# Empty list for holding the cities names
cities = []

# Range of latitudes and longitudes
lat_range = (-90, 90)
lng_range = (-180, 180)

# Create a set of random lat and lng combinations
lats = np.random.uniform(lat_range[0], lat_range[1], size=1500)
lngs = np.random.uniform(lng_range[0], lng_range[1], size=1500)
lat_lngs = zip(lats, lngs)

# Identify nearest city for each lat, lng combination
for lat_lng in lat_lngs:
    city = citipy.nearest_city(lat_lng[0], lat_lng[1]).city_name
    
    # If the city is unique, then add it to a our cities list
    if city not in cities:
        cities.append(city)

# Print the city count to confirm sufficient count
print(f"Number of cities in the list: {len(cities)}")








# Set the API base URL
url = "http://api.openweathermap.org/data/2.5/weather?"

# Define an empty list to fetch the weather data for each city
city_data = []

# Print to logger
print("Beginning Data Retrieval     ")
print("-----------------------------")

# Create counters
record_count = 1
set_count = 1

# Loop through all the cities in our list to fetch weather data
for i, city in enumerate(cities):
        
    # Group cities in sets of 50 for logging purposes
    if (i % 50 == 0 and i >= 50):
        set_count += 1
        record_count = 0

    # Create endpoint URL with each city
    city_url = f"{url}q={city}&appid={weather_api_key}&units=metric"
    
    # Log the url, record, and set numbers
    print("Processing Record %s of Set %s | %s" % (record_count, set_count, city))

    # Add 1 to the record count
    record_count += 1

    # Run an API request for each of the cities
    try:
        # Parse the JSON and retrieve data
        city_weather_response = requests.get(city_url)
        city_weather_json = city_weather_response.json()
        

    # Parse out latitude, longitude, max temp, humidity, cloudiness, wind speed, country, and date
        city_lat = city_weather_json["coord"]["lat"]
        city_lng = city_weather_json["coord"]["lon"]
        city_max_temp = city_weather_json["main"]["temp_max"]
        city_humidity = city_weather_json["main"]["humidity"]
        city_clouds = city_weather_json["clouds"]["all"]
        city_wind = city_weather_json["wind"]["speed"]
        city_country = city_weather_json["sys"]["country"]
        city_date = city_weather_json["dt"]

     # Append the City information into city_data list
        city_data.append({"City": city, 
                          "Lat": city_lat, 
                          "Lng": city_lng, 
                          "Max Temp": city_max_temp,
                          "Humidity": city_humidity,
                          "Cloudiness": city_clouds,
                          "Wind Speed": city_wind,
                          "Country": city_country,
                          "Date": city_date})   

    # If an error is experienced, skip the city
    except:
        print("City not found. Skipping...")
        pass
              
# Indicate that Data Loading is complete 
print("-----------------------------")
print("Data Retrieval Complete      ")
print("-----------------------------")



# Convert the cities weather data into a Pandas DataFrame
city_data_df = pd.DataFrame(city_data)

# Show Record Count
city_data_df.count()


# Display sample data
city_data_df.head()


# Export the City_Data into a csv
city_data_df.to_csv("output_data/cities.csv", index_label="City_ID")


# Read saved data
city_data_df = pd.read_csv("output_data/cities.csv", index_col="City_ID")

# Display sample data
city_data_df.head()





# Build scatter plot for latitude vs. temperature
x_axis = city_data_df['Lat']
y_axis = city_data_df['Max Temp']

# Incorporate the other graph properties
plt.scatter(x_axis, y_axis)
plt.xlabel("Latitude")
plt.ylabel("Max Temperature (C)")
plt.title("City Max Latitude vs. Temperature")

# Save the figure
plt.savefig("output_data/Fig1.png")

# Show plot
plt.show()





# Build the scatter plots for latitude vs. humidity
x_axis = city_data_df['Lat']
y_axis = city_data_df['Humidity']

# Incorporate the other graph properties
plt.scatter(x_axis, y_axis)
plt.ylabel("Humidity (%)")
plt.xlabel("Latitude")
plt.title("City Latitude vs. Humidity")

# Save the figure
plt.savefig("output_data/Fig2.png")

# Show plot
plt.show()





# Build the scatter plots for latitude vs. cloudiness
x_axis = city_data_df['Lat']
y_axis = city_data_df['Cloudiness']

# Incorporate the other graph properties
plt.scatter(x_axis, y_axis)
plt.ylabel("Cloudiness (%)")
plt.xlabel("Latitude")
plt.title("City Latitude vs. Cloudiness")

# Save the figure
plt.savefig("output_data/Fig3.png")

# Show plot
plt.show()





# Build the scatter plots for latitude vs. wind speed
x_axis = city_data_df['Lat']
y_axis = city_data_df['Wind Speed']

# Incorporate the other graph properties
plt.scatter(x_axis, y_axis)
plt.ylabel("Wind Speed (m/s)")
plt.xlabel("Latitude")
plt.title("City Latitude vs. Wind Speed")

# Save the figure
plt.savefig("output_data/Fig4.png")

# Show plot
plt.show()





# Define a function to create Linear Regression plots
(slope, intercept, rvalue, pvalue, stderr) = linregress(x_axis, y_axis)
regress_values = x_axis * slope + intercept
line_eq = "y = " + str(round(slope,2)) + "x + " + str(round(intercept,2))


# Create a DataFrame with the Northern Hemisphere data (Latitude >= 0)
north_hemi_df = city_data_df[city_data_df['Lat'] >= 0]

# Display sample data
north_hemi_df.head()


# Create a DataFrame with the Southern Hemisphere data (Latitude < 0)
south_hemi_df = city_data_df[city_data_df['Lat'] <= 0]

# Display sample data
south_hemi_df.head()





# Linear regression on Northern Hemisphere
# Build scatter plot for latitude vs. temperature
x_axis = north_hemi_df['Lat']
y_axis = north_hemi_df['Max Temp']

(slope, intercept, rvalue, pvalue, stderr) = linregress(x_axis, y_axis)
regress_values = x_axis * slope + intercept
line_eq = "y = " + str(round(slope,2)) + "x + " + str(round(intercept,2))

# Incorporate the other graph properties
plt.scatter(x_axis, y_axis)
plt.ylabel("Max Temperature (C)")
plt.xlabel("Latitude")
plt.annotate(line_eq, (10,5),fontsize=15,color="red")
plt.plot(x_axis, regress_values, color='red', linewidth=2, label='Linear Regression Line')
plt.title("City Latitude vs. Temperature")

# Save the figure
plt.savefig("output_data/Fig5.png")

# Show plot
plt.show()
print(f"Correlation coefficient (r): {rvalue:.2f}")





# Linear regression on Southern Hemisphere
# Build scatter plot for latitude vs. temperature
x_axis = south_hemi_df['Lat']
y_axis = south_hemi_df['Max Temp']

(slope, intercept, rvalue, pvalue, stderr) = linregress(x_axis, y_axis)
regress_values = x_axis * slope + intercept
line_eq = "y = " + str(round(slope,2)) + "x + " + str(round(intercept,2))

# Incorporate the other graph properties
plt.scatter(x_axis, y_axis)
plt.ylabel("Max Temperature (C)")
plt.xlabel("Latitude")
plt.annotate(line_eq,(-25,5),fontsize=15,color="red")
plt.plot(x_axis, regress_values, color='red', linewidth=2, label='Linear Regression Line')
plt.title("City Latitude vs. Temperature")

# Save the figure
plt.savefig("output_data/Fig6.png")

# Show plot
plt.show()

print(f"Correlation coefficient (r): {rvalue:.2f}")








# Northern Hemisphere
x_axis = north_hemi_df['Lat']
y_axis = north_hemi_df['Humidity']

(slope, intercept, rvalue, pvalue, stderr) = linregress(x_axis, y_axis)
regress_values = x_axis * slope + intercept
line_eq = "y = " + str(round(slope,2)) + "x + " + str(round(intercept,2))


# Incorporate the other graph properties
plt.scatter(x_axis, y_axis)
plt.ylabel("Humidity")
plt.xlabel("Latitude")
plt.annotate(line_eq,(40,5),fontsize=15,color="red")
plt.plot(x_axis, regress_values, color='red', linewidth=2, label='Linear Regression Line')
plt.title("City Latitude vs. Humidity")

# Save the figure
plt.savefig("output_data/Fig7.png")

# Show plot
plt.show()
print(f"Correlation coefficient (r): {rvalue:.2f}")





# Southern Hemisphere
x_axis = south_hemi_df['Lat']
y_axis = south_hemi_df['Humidity']

(slope, intercept, rvalue, pvalue, stderr) = linregress(x_axis, y_axis)
regress_values = x_axis * slope + intercept
line_eq = "y = " + str(round(slope,2)) + "x + " + str(round(intercept,2))


# Incorporate the other graph properties
plt.scatter(x_axis, y_axis)
plt.ylabel("Humidity")
plt.xlabel("Latitude")
plt.annotate(line_eq,(-55,20),fontsize=15,color="red")
plt.plot(x_axis, regress_values, color='red', linewidth=2, label='Linear Regression Line')
plt.title("City Latitude vs. Humidity")

# Save the figure
plt.savefig("output_data/Fig8.png")

# Show plot
plt.show()
print(f"Correlation coefficient (r): {rvalue:.2f}")








# Northern Hemisphere
x_axis = north_hemi_df['Lat']
y_axis = north_hemi_df['Cloudiness']

(slope, intercept, rvalue, pvalue, stderr) = linregress(x_axis, y_axis)
regress_values = x_axis * slope + intercept
line_eq = "y = " + str(round(slope,2)) + "x + " + str(round(intercept,2))


# Incorporate the other graph properties
plt.scatter(x_axis, y_axis)
plt.ylabel("Cloudiness")
plt.xlabel("Latitude")
plt.annotate(line_eq,(0,31),fontsize=15,color="red")
plt.plot(x_axis, regress_values, color='red', linewidth=2, label='Linear Regression Line')
plt.title("City Latitude vs. Cloudiness")

# Save the figure
plt.savefig("output_data/Fig9.png")

# Show plot
plt.show()
print(f"Correlation coefficient (r): {rvalue:.2f}")





# Southern Hemisphere
x_axis = south_hemi_df['Lat']
y_axis = south_hemi_df['Cloudiness']

(slope, intercept, rvalue, pvalue, stderr) = linregress(x_axis, y_axis)
regress_values = x_axis * slope + intercept
line_eq = "y = " + str(round(slope,2)) + "x + " + str(round(intercept,2))

# Incorporate the other graph properties
plt.scatter(x_axis, y_axis)
plt.ylabel("Cloudiness")
plt.xlabel("Latitude")
plt.annotate(line_eq,(-50,25),fontsize=15,color="red")
plt.plot(x_axis, regress_values, color='red', linewidth=2, label='Linear Regression Line')
plt.title("City Latitude vs. Cloudiness")

# Save the figure
plt.savefig("output_data/Fig10.png")

# Show plot
plt.show()
print(f"Correlation coefficient (r): {rvalue:.2f}")








# Northern Hemisphere
x_axis = north_hemi_df['Lat']
y_axis = north_hemi_df['Wind Speed']

(slope, intercept, rvalue, pvalue, stderr) = linregress(x_axis, y_axis)
regress_values = x_axis * slope + intercept
line_eq = "y = " + str(round(slope,2)) + "x + " + str(round(intercept,2))

# Incorporate the other graph properties
plt.scatter(x_axis, y_axis)
plt.ylabel("Wind Speed")
plt.xlabel("Latitude")
plt.annotate(line_eq,(40,13),fontsize=15,color="red")
plt.plot(x_axis, regress_values, color='red', linewidth=2, label='Linear Regression Line')
plt.title("City Latitude vs. Wind Speed")

# Save the figure
plt.savefig("output_data/Fig11.png")

# Show plot
plt.show()
print(f"Correlation coefficient (r): {rvalue:.2f}")





# Southern Hemisphere
x_axis = south_hemi_df['Lat']
y_axis = south_hemi_df['Wind Speed']

(slope, intercept, rvalue, pvalue, stderr) = linregress(x_axis, y_axis)
regress_values = x_axis * slope + intercept
line_eq = "y = " + str(round(slope,2)) + "x + " + str(round(intercept,2))

# Incorporate the other graph properties
plt.scatter(x_axis, y_axis)
plt.ylabel("Wind Speed")
plt.xlabel("Latitude")
plt.annotate(line_eq,(-25,14),fontsize=15,color="red")
plt.plot(x_axis, regress_values, color='red', linewidth=2, label='Linear Regression Line')
plt.title("City Latitude vs. Wind Speed")

# Save the figure
plt.savefig("output_data/Fig12.png")

# Show plot
plt.show()
print(f"Correlation coefficient (r): {rvalue:.2f}")






