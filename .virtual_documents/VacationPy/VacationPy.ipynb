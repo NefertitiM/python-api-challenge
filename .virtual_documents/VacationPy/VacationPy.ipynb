


# Dependencies and Setup
import hvplot.pandas
import pandas as pd
import requests

# Import API key
from api_keys import geoapify_key


# Load the CSV file created in Part 1 into a Pandas DataFrame
city_data_df = pd.read_csv("../WeatherPy/output_data/cities.csv")

# Display sample data
city_data_df.head()





%%capture --no-display

# Configure the map
map_plot = city_data_df.hvplot.points(
    "Lng",
    "Lat",
    geo = True,
    tiles = "EsriImagery",
    frame_width = 800,
    frame_height = 600,
    size = "Humidity",
    scale = 1,
    color = "City"
)

# Display the map plot
map_plot





# Narrow down cities that fit criteria and drop any results with null values
ideal_weather = (
    (city_data_df['Max Temp'] >= 22) & (city_data_df['Max Temp'] <= 30) &  
    (city_data_df['Humidity'] <= 45) & 
    (city_data_df['Cloudiness'] < 40) & 
    (city_data_df['Wind Speed'] < 20)
)

ideal_weather_df = city_data_df[ideal_weather]
# Drop any rows with null values
ideal_weather_df = ideal_weather_df.dropna()

# Display sample data
ideal_weather_df





# Use the Pandas copy function to create DataFrame called hotel_df to store the city, country, coordinates, and humidity
# Use copy function to create hotel_df with desired columns
hotel_df = ideal_weather_df[['City', 'Country', 'Lat', 'Lng', 'Humidity']].copy()

# Add an empty column, "Hotel Name," to the DataFrame so you can store the hotel found using the Geoapify API
hotel_df['Hotel Name'] = ""

# Display sample data
hotel_df.head()





# Set parameters to search for a hotel
radius = 50000  # Example: Increase radius to cover a larger area
params = {
    "apiKey": geoapify_key,
    "type": "accommodation.hotel"  # Specify the type of place you are searching for (e.g., accommodation for hotels)
}

# Print a message to follow up the hotel search
print("Starting hotel search")

# Iterate through the hotel_df DataFrame
for index, row in hotel_df.iterrows():
    lat = row['Lat']
    lng = row['Lng']
    
    params["filter"] = f"circle:{lng},{lat},{radius}"
    params["bias"] = f"proximity:{lng},{lat}"
    
    # Set base URL
    base_url = "https://api.geoapify.com/v2/places"

    try:
        # Make an API request using the params dictionary
        hotel_resp = requests.get(base_url, params=params)
        
        # Convert the API response to JSON format
        hotel_response = hotel_resp.json()
       
        # Initialize found hotel name as None
        hotel_name = "No hotel found"
        
        # Iterate through features to find hotel name
        if "features" in hotel_response:
            for feature in hotel_response["features"]:
                if "properties" in feature and "name" in feature["properties"]:
                    hotel_name = feature["properties"]["name"]
                    break
        
        # Store the hotel name in the DataFrame
        hotel_df.loc[index, "Hotel Name"] = hotel_name
    
    except Exception as e:
        print(f"Error retrieving hotel data for {row['City']}: {e}")
        hotel_df.loc[index, "Hotel Name"] = "Error"
        
    # Log the search results
    print(f"{row['City']} - nearest hotel: {hotel_df.loc[index, 'Hotel Name']}")

# Display sample data
hotel_df.head()





%%capture --no-display

# Configure the map
map_plot2 = hotel_df.hvplot.points(
    "Lng",
    "Lat",
    geo = True,
    tiles = "EsriImagery",
    frame_width = 800,
    frame_height = 600,
    size = "Humidity",
    scale = 2,
    color = "Hotel Name",
    hover_cols=['City', 'Country', 'Hotel Name']
)

# Display the map plot
map_plot2



